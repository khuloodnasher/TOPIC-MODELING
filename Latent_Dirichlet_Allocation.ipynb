{
  "nbformat": 4,
  "nbformat_minor": 0,
  "metadata": {
    "kernelspec": {
      "display_name": "Python 3",
      "language": "python",
      "name": "python3"
    },
    "language_info": {
      "codemirror_mode": {
        "name": "ipython",
        "version": 3
      },
      "file_extension": ".py",
      "mimetype": "text/x-python",
      "name": "python",
      "nbconvert_exporter": "python",
      "pygments_lexer": "ipython3",
      "version": "3.6.6"
    },
    "colab": {
      "name": "Latent-Dirichlet-Allocation.ipynb",
      "provenance": [],
      "toc_visible": true,
      "include_colab_link": true
    }
  },
  "cells": [
    {
      "cell_type": "markdown",
      "metadata": {
        "id": "view-in-github",
        "colab_type": "text"
      },
      "source": [
        "<a href=\"https://colab.research.google.com/github/khuloodnasher/TOPIC-MODELING/blob/main/Latent_Dirichlet_Allocation.ipynb\" target=\"_parent\"><img src=\"https://colab.research.google.com/assets/colab-badge.svg\" alt=\"Open In Colab\"/></a>"
      ]
    },
    {
      "cell_type": "markdown",
      "metadata": {
        "id": "8hV3ISHfHJKb"
      },
      "source": [
        "# Latent Dirichlet Allocation"
      ]
    },
    {
      "cell_type": "markdown",
      "metadata": {
        "id": "SM7p1AcvHJKb"
      },
      "source": [
        "## Data\n",
        "\n",
        "We will be using articles from NPR (National Public Radio), obtained from their website [www.npr.org](http://www.npr.org)"
      ]
    },
    {
      "cell_type": "code",
      "metadata": {
        "colab": {
          "base_uri": "https://localhost:8080/"
        },
        "id": "rmBief5sI2u9",
        "outputId": "1192eb3a-c742-4c84-a7e2-d275651eedad"
      },
      "source": [
        "from google.colab import drive\n",
        "drive.mount('/content/drive')"
      ],
      "execution_count": 1,
      "outputs": [
        {
          "output_type": "stream",
          "text": [
            "Mounted at /content/drive\n"
          ],
          "name": "stdout"
        }
      ]
    },
    {
      "cell_type": "code",
      "metadata": {
        "collapsed": true,
        "id": "k4vBGfC1HJKc"
      },
      "source": [
        "import pandas as pd"
      ],
      "execution_count": 2,
      "outputs": []
    },
    {
      "cell_type": "code",
      "metadata": {
        "collapsed": true,
        "id": "73gw-79QHJKc"
      },
      "source": [
        "\n",
        "npr = pd.read_csv('/content/drive/My Drive/npr.csv')"
      ],
      "execution_count": 3,
      "outputs": []
    },
    {
      "cell_type": "code",
      "metadata": {
        "colab": {
          "base_uri": "https://localhost:8080/",
          "height": 204
        },
        "id": "90wCQu-mHJKc",
        "outputId": "ecfb8447-7317-475e-93fd-205acbff978e"
      },
      "source": [
        "npr.head()"
      ],
      "execution_count": 4,
      "outputs": [
        {
          "output_type": "execute_result",
          "data": {
            "text/html": [
              "<div>\n",
              "<style scoped>\n",
              "    .dataframe tbody tr th:only-of-type {\n",
              "        vertical-align: middle;\n",
              "    }\n",
              "\n",
              "    .dataframe tbody tr th {\n",
              "        vertical-align: top;\n",
              "    }\n",
              "\n",
              "    .dataframe thead th {\n",
              "        text-align: right;\n",
              "    }\n",
              "</style>\n",
              "<table border=\"1\" class=\"dataframe\">\n",
              "  <thead>\n",
              "    <tr style=\"text-align: right;\">\n",
              "      <th></th>\n",
              "      <th>Article</th>\n",
              "    </tr>\n",
              "  </thead>\n",
              "  <tbody>\n",
              "    <tr>\n",
              "      <th>0</th>\n",
              "      <td>In the Washington of 2016, even when the polic...</td>\n",
              "    </tr>\n",
              "    <tr>\n",
              "      <th>1</th>\n",
              "      <td>Donald Trump has used Twitter  —   his prefe...</td>\n",
              "    </tr>\n",
              "    <tr>\n",
              "      <th>2</th>\n",
              "      <td>Donald Trump is unabashedly praising Russian...</td>\n",
              "    </tr>\n",
              "    <tr>\n",
              "      <th>3</th>\n",
              "      <td>Updated at 2:50 p. m. ET, Russian President Vl...</td>\n",
              "    </tr>\n",
              "    <tr>\n",
              "      <th>4</th>\n",
              "      <td>From photography, illustration and video, to d...</td>\n",
              "    </tr>\n",
              "  </tbody>\n",
              "</table>\n",
              "</div>"
            ],
            "text/plain": [
              "                                             Article\n",
              "0  In the Washington of 2016, even when the polic...\n",
              "1    Donald Trump has used Twitter  —   his prefe...\n",
              "2    Donald Trump is unabashedly praising Russian...\n",
              "3  Updated at 2:50 p. m. ET, Russian President Vl...\n",
              "4  From photography, illustration and video, to d..."
            ]
          },
          "metadata": {
            "tags": []
          },
          "execution_count": 4
        }
      ]
    },
    {
      "cell_type": "code",
      "metadata": {
        "colab": {
          "base_uri": "https://localhost:8080/",
          "height": 204
        },
        "id": "U4NLS8K5I1bv",
        "outputId": "e167a56e-4f08-436f-9255-ee7dc1968ccb"
      },
      "source": [
        "npr.tail()"
      ],
      "execution_count": 39,
      "outputs": [
        {
          "output_type": "execute_result",
          "data": {
            "text/html": [
              "<div>\n",
              "<style scoped>\n",
              "    .dataframe tbody tr th:only-of-type {\n",
              "        vertical-align: middle;\n",
              "    }\n",
              "\n",
              "    .dataframe tbody tr th {\n",
              "        vertical-align: top;\n",
              "    }\n",
              "\n",
              "    .dataframe thead th {\n",
              "        text-align: right;\n",
              "    }\n",
              "</style>\n",
              "<table border=\"1\" class=\"dataframe\">\n",
              "  <thead>\n",
              "    <tr style=\"text-align: right;\">\n",
              "      <th></th>\n",
              "      <th>Article</th>\n",
              "      <th>Topic</th>\n",
              "    </tr>\n",
              "  </thead>\n",
              "  <tbody>\n",
              "    <tr>\n",
              "      <th>11987</th>\n",
              "      <td>The number of law enforcement officers shot an...</td>\n",
              "      <td>1</td>\n",
              "    </tr>\n",
              "    <tr>\n",
              "      <th>11988</th>\n",
              "      <td>Trump is busy these days with victory tours,...</td>\n",
              "      <td>4</td>\n",
              "    </tr>\n",
              "    <tr>\n",
              "      <th>11989</th>\n",
              "      <td>It’s always interesting for the Goats and Soda...</td>\n",
              "      <td>3</td>\n",
              "    </tr>\n",
              "    <tr>\n",
              "      <th>11990</th>\n",
              "      <td>The election of Donald Trump was a surprise to...</td>\n",
              "      <td>4</td>\n",
              "    </tr>\n",
              "    <tr>\n",
              "      <th>11991</th>\n",
              "      <td>Voters in the English city of Sunderland did s...</td>\n",
              "      <td>0</td>\n",
              "    </tr>\n",
              "  </tbody>\n",
              "</table>\n",
              "</div>"
            ],
            "text/plain": [
              "                                                 Article  Topic\n",
              "11987  The number of law enforcement officers shot an...      1\n",
              "11988    Trump is busy these days with victory tours,...      4\n",
              "11989  It’s always interesting for the Goats and Soda...      3\n",
              "11990  The election of Donald Trump was a surprise to...      4\n",
              "11991  Voters in the English city of Sunderland did s...      0"
            ]
          },
          "metadata": {
            "tags": []
          },
          "execution_count": 39
        }
      ]
    },
    {
      "cell_type": "markdown",
      "metadata": {
        "id": "SmpxlwshHJKd"
      },
      "source": [
        "Notice how we don't have the topic of the articles! Let's use LDA to attempt to figure out clusters of the articles."
      ]
    },
    {
      "cell_type": "markdown",
      "metadata": {
        "id": "oTztsqkNHJKe"
      },
      "source": [
        "## Preprocessing"
      ]
    },
    {
      "cell_type": "code",
      "metadata": {
        "collapsed": true,
        "id": "4XrxuX4WHJKe"
      },
      "source": [
        "from sklearn.feature_extraction.text import CountVectorizer"
      ],
      "execution_count": 5,
      "outputs": []
    },
    {
      "cell_type": "markdown",
      "metadata": {
        "id": "CHKMY_gpHJKe"
      },
      "source": [
        "**`max_df`**` : float in range [0.0, 1.0] or int, default=1.0`<br>\n",
        "When building the vocabulary ignore terms that have a document frequency strictly higher than the given threshold (corpus-specific stop words). If float, the parameter represents a proportion of documents, integer absolute counts. This parameter is ignored if vocabulary is not None.\n",
        "\n",
        "**`min_df`**` : float in range [0.0, 1.0] or int, default=1`<br>\n",
        "When building the vocabulary ignore terms that have a document frequency strictly lower than the given threshold. This value is also called cut-off in the literature. If float, the parameter represents a proportion of documents, integer absolute counts. This parameter is ignored if vocabulary is not None."
      ]
    },
    {
      "cell_type": "code",
      "metadata": {
        "collapsed": true,
        "id": "obNstl8UHJKe"
      },
      "source": [
        "cv = CountVectorizer(max_df=0.95, min_df=2, stop_words='english')"
      ],
      "execution_count": 6,
      "outputs": []
    },
    {
      "cell_type": "code",
      "metadata": {
        "collapsed": true,
        "id": "THD4Vbl4HJKf"
      },
      "source": [
        "dtm = cv.fit_transform(npr['Article'])"
      ],
      "execution_count": 7,
      "outputs": []
    },
    {
      "cell_type": "code",
      "metadata": {
        "colab": {
          "base_uri": "https://localhost:8080/"
        },
        "id": "fzapOT6jHJKf",
        "outputId": "95b35c9b-ad2f-4873-e913-7eb998c0b6d7"
      },
      "source": [
        "dtm"
      ],
      "execution_count": 8,
      "outputs": [
        {
          "output_type": "execute_result",
          "data": {
            "text/plain": [
              "<11992x54777 sparse matrix of type '<class 'numpy.int64'>'\n",
              "\twith 3033388 stored elements in Compressed Sparse Row format>"
            ]
          },
          "metadata": {
            "tags": []
          },
          "execution_count": 8
        }
      ]
    },
    {
      "cell_type": "markdown",
      "metadata": {
        "id": "HATF3barHJKf"
      },
      "source": [
        "## LDA"
      ]
    },
    {
      "cell_type": "code",
      "metadata": {
        "collapsed": true,
        "id": "m5CUsFoxHJKf"
      },
      "source": [
        "from sklearn.decomposition import LatentDirichletAllocation"
      ],
      "execution_count": 9,
      "outputs": []
    },
    {
      "cell_type": "code",
      "metadata": {
        "collapsed": true,
        "id": "ncsXtdcuHJKf"
      },
      "source": [
        "LDA = LatentDirichletAllocation(n_components=7,random_state=42)"
      ],
      "execution_count": 10,
      "outputs": []
    },
    {
      "cell_type": "code",
      "metadata": {
        "colab": {
          "base_uri": "https://localhost:8080/"
        },
        "id": "LU4__4MdHJKh",
        "outputId": "74210114-b7f6-4bb6-f81c-cb716d247c35"
      },
      "source": [
        "# This can take awhile, we're dealing with a large amount of documents!\n",
        "LDA.fit(dtm)"
      ],
      "execution_count": 11,
      "outputs": [
        {
          "output_type": "execute_result",
          "data": {
            "text/plain": [
              "LatentDirichletAllocation(batch_size=128, doc_topic_prior=None,\n",
              "                          evaluate_every=-1, learning_decay=0.7,\n",
              "                          learning_method='batch', learning_offset=10.0,\n",
              "                          max_doc_update_iter=100, max_iter=10,\n",
              "                          mean_change_tol=0.001, n_components=7, n_jobs=None,\n",
              "                          perp_tol=0.1, random_state=42, topic_word_prior=None,\n",
              "                          total_samples=1000000.0, verbose=0)"
            ]
          },
          "metadata": {
            "tags": []
          },
          "execution_count": 11
        }
      ]
    },
    {
      "cell_type": "markdown",
      "metadata": {
        "id": "8UmPmkcYHJKh"
      },
      "source": [
        "## Showing Stored Words"
      ]
    },
    {
      "cell_type": "code",
      "metadata": {
        "colab": {
          "base_uri": "https://localhost:8080/"
        },
        "id": "q-quNk3QHJKh",
        "outputId": "5f3768ed-4c1b-428c-e223-f11471365f3a"
      },
      "source": [
        "len(cv.get_feature_names())"
      ],
      "execution_count": 12,
      "outputs": [
        {
          "output_type": "execute_result",
          "data": {
            "text/plain": [
              "54777"
            ]
          },
          "metadata": {
            "tags": []
          },
          "execution_count": 12
        }
      ]
    },
    {
      "cell_type": "code",
      "metadata": {
        "collapsed": true,
        "id": "TieNdfElHJKi"
      },
      "source": [
        "import random"
      ],
      "execution_count": 13,
      "outputs": []
    },
    {
      "cell_type": "code",
      "metadata": {
        "colab": {
          "base_uri": "https://localhost:8080/"
        },
        "id": "2aPLuT8eHJKi",
        "outputId": "63589c73-1230-4a1a-f4c3-71ac448aea3f"
      },
      "source": [
        "for i in range(10):\n",
        "    random_word_id = random.randint(0,54776)\n",
        "    print(cv.get_feature_names()[random_word_id])"
      ],
      "execution_count": 14,
      "outputs": [
        {
          "output_type": "stream",
          "text": [
            "supremacy\n",
            "clamp\n",
            "ramsay\n",
            "pursuits\n",
            "comes\n",
            "videogames\n",
            "iñárritu\n",
            "688\n",
            "hippies\n",
            "sexy\n"
          ],
          "name": "stdout"
        }
      ]
    },
    {
      "cell_type": "code",
      "metadata": {
        "colab": {
          "base_uri": "https://localhost:8080/"
        },
        "id": "FAa7a3Y8HJKi",
        "outputId": "b3bdd06b-bf94-4bb4-fbdb-5634a6c7f95e"
      },
      "source": [
        "for i in range(10):\n",
        "    random_word_id = random.randint(0,54776)\n",
        "    print(cv.get_feature_names()[random_word_id])"
      ],
      "execution_count": 15,
      "outputs": [
        {
          "output_type": "stream",
          "text": [
            "buckwheat\n",
            "noa\n",
            "redistricting\n",
            "mines\n",
            "voracious\n",
            "grunge\n",
            "hills\n",
            "holders\n",
            "farook\n",
            "walnut\n"
          ],
          "name": "stdout"
        }
      ]
    },
    {
      "cell_type": "markdown",
      "metadata": {
        "collapsed": true,
        "id": "3yWnnhGSHJKi"
      },
      "source": [
        "### Showing Top Words Per Topic"
      ]
    },
    {
      "cell_type": "code",
      "metadata": {
        "colab": {
          "base_uri": "https://localhost:8080/"
        },
        "id": "RqAXwvM1HJKi",
        "outputId": "47a7bb1e-3985-425d-c7b4-d7e155c27985"
      },
      "source": [
        "len(LDA.components_)"
      ],
      "execution_count": 16,
      "outputs": [
        {
          "output_type": "execute_result",
          "data": {
            "text/plain": [
              "7"
            ]
          },
          "metadata": {
            "tags": []
          },
          "execution_count": 16
        }
      ]
    },
    {
      "cell_type": "code",
      "metadata": {
        "colab": {
          "base_uri": "https://localhost:8080/"
        },
        "id": "Lj6FbCv0HJKj",
        "outputId": "f737a5e5-6aec-49e5-e1b2-4dd85219d9cb"
      },
      "source": [
        "LDA.components_"
      ],
      "execution_count": 17,
      "outputs": [
        {
          "output_type": "execute_result",
          "data": {
            "text/plain": [
              "array([[8.64332806e+00, 2.38014333e+03, 1.42900522e-01, ...,\n",
              "        1.43006821e-01, 1.42902042e-01, 1.42861626e-01],\n",
              "       [2.76191749e+01, 5.36394437e+02, 1.42857148e-01, ...,\n",
              "        1.42861973e-01, 1.42857147e-01, 1.42906875e-01],\n",
              "       [7.22783888e+00, 8.24033986e+02, 1.42857148e-01, ...,\n",
              "        6.14236247e+00, 2.14061364e+00, 1.42923753e-01],\n",
              "       ...,\n",
              "       [3.11488651e+00, 3.50409655e+02, 1.42857147e-01, ...,\n",
              "        1.42859912e-01, 1.42857146e-01, 1.42866614e-01],\n",
              "       [4.61486388e+01, 5.14408600e+01, 3.14281373e+00, ...,\n",
              "        1.43107628e-01, 1.43902481e-01, 2.14271779e+00],\n",
              "       [4.93991422e-01, 4.18841042e+02, 1.42857151e-01, ...,\n",
              "        1.42857146e-01, 1.43760101e-01, 1.42866201e-01]])"
            ]
          },
          "metadata": {
            "tags": []
          },
          "execution_count": 17
        }
      ]
    },
    {
      "cell_type": "code",
      "metadata": {
        "colab": {
          "base_uri": "https://localhost:8080/"
        },
        "id": "cwvytIQZHJKj",
        "outputId": "d6f89e66-22fc-4407-ac5b-a6522cc49730"
      },
      "source": [
        "len(LDA.components_[0])"
      ],
      "execution_count": 18,
      "outputs": [
        {
          "output_type": "execute_result",
          "data": {
            "text/plain": [
              "54777"
            ]
          },
          "metadata": {
            "tags": []
          },
          "execution_count": 18
        }
      ]
    },
    {
      "cell_type": "code",
      "metadata": {
        "collapsed": true,
        "id": "FUNpU_O8HJKj"
      },
      "source": [
        "single_topic = LDA.components_[0]"
      ],
      "execution_count": 19,
      "outputs": []
    },
    {
      "cell_type": "code",
      "metadata": {
        "colab": {
          "base_uri": "https://localhost:8080/"
        },
        "id": "5eFCCgMIHJKj",
        "outputId": "2127d711-d3c8-4f90-f181-24bdf5ce8b94"
      },
      "source": [
        "# Returns the indices that would sort this array.\n",
        "single_topic.argsort()"
      ],
      "execution_count": 20,
      "outputs": [
        {
          "output_type": "execute_result",
          "data": {
            "text/plain": [
              "array([ 2475, 18302, 35285, ..., 22673, 42561, 42993])"
            ]
          },
          "metadata": {
            "tags": []
          },
          "execution_count": 20
        }
      ]
    },
    {
      "cell_type": "code",
      "metadata": {
        "colab": {
          "base_uri": "https://localhost:8080/"
        },
        "id": "oyLz6FAnHJKj",
        "outputId": "435be536-2047-4415-9852-788bb6ef816d"
      },
      "source": [
        "# Word least representative of this topic\n",
        "single_topic[18302]"
      ],
      "execution_count": 21,
      "outputs": [
        {
          "output_type": "execute_result",
          "data": {
            "text/plain": [
              "0.14285714309286987"
            ]
          },
          "metadata": {
            "tags": []
          },
          "execution_count": 21
        }
      ]
    },
    {
      "cell_type": "code",
      "metadata": {
        "colab": {
          "base_uri": "https://localhost:8080/"
        },
        "id": "gHi4RmsPHJKj",
        "outputId": "85fe4168-10a1-48d8-a3de-21a46c190f62"
      },
      "source": [
        "# Word most representative of this topic\n",
        "single_topic[42993]"
      ],
      "execution_count": 22,
      "outputs": [
        {
          "output_type": "execute_result",
          "data": {
            "text/plain": [
              "6247.245510521077"
            ]
          },
          "metadata": {
            "tags": []
          },
          "execution_count": 22
        }
      ]
    },
    {
      "cell_type": "code",
      "metadata": {
        "colab": {
          "base_uri": "https://localhost:8080/"
        },
        "id": "0GUdKENnHJKk",
        "outputId": "1dfc71d9-f3f7-4c45-ec34-062a97a3a957"
      },
      "source": [
        "# Top 10 words for this topic:\n",
        "single_topic.argsort()[-10:]"
      ],
      "execution_count": 23,
      "outputs": [
        {
          "output_type": "execute_result",
          "data": {
            "text/plain": [
              "array([33390, 36310, 21228, 10425, 31464,  8149, 36283, 22673, 42561,\n",
              "       42993])"
            ]
          },
          "metadata": {
            "tags": []
          },
          "execution_count": 23
        }
      ]
    },
    {
      "cell_type": "code",
      "metadata": {
        "collapsed": true,
        "id": "JK92RAjhHJKk"
      },
      "source": [
        "top_word_indices = single_topic.argsort()[-10:]"
      ],
      "execution_count": 24,
      "outputs": []
    },
    {
      "cell_type": "code",
      "metadata": {
        "colab": {
          "base_uri": "https://localhost:8080/"
        },
        "id": "Ur7enAMvHJKk",
        "outputId": "f127a414-ee60-4ff7-a426-940a02e60eeb"
      },
      "source": [
        "for index in top_word_indices:\n",
        "    print(cv.get_feature_names()[index])"
      ],
      "execution_count": 25,
      "outputs": [
        {
          "output_type": "stream",
          "text": [
            "new\n",
            "percent\n",
            "government\n",
            "company\n",
            "million\n",
            "care\n",
            "people\n",
            "health\n",
            "said\n",
            "says\n"
          ],
          "name": "stdout"
        }
      ]
    },
    {
      "cell_type": "markdown",
      "metadata": {
        "id": "-YxCaMrHHJKk"
      },
      "source": [
        "These look like business articles perhaps... Let's confirm by using .transform() on our vectorized articles to attach a label number. But first, let's view all the 10 topics found."
      ]
    },
    {
      "cell_type": "code",
      "metadata": {
        "colab": {
          "base_uri": "https://localhost:8080/"
        },
        "id": "sh-U18HJHJKk",
        "outputId": "b41c6e96-9e1a-4147-8c89-e96e687cabbc"
      },
      "source": [
        "for index,topic in enumerate(LDA.components_):\n",
        "    print(f'THE TOP 15 WORDS FOR TOPIC #{index}')\n",
        "    print([cv.get_feature_names()[i] for i in topic.argsort()[-15:]])\n",
        "    print('\\n')"
      ],
      "execution_count": 26,
      "outputs": [
        {
          "output_type": "stream",
          "text": [
            "THE TOP 15 WORDS FOR TOPIC #0\n",
            "['companies', 'money', 'year', 'federal', '000', 'new', 'percent', 'government', 'company', 'million', 'care', 'people', 'health', 'said', 'says']\n",
            "\n",
            "\n",
            "THE TOP 15 WORDS FOR TOPIC #1\n",
            "['military', 'house', 'security', 'russia', 'government', 'npr', 'reports', 'says', 'news', 'people', 'told', 'police', 'president', 'trump', 'said']\n",
            "\n",
            "\n",
            "THE TOP 15 WORDS FOR TOPIC #2\n",
            "['way', 'world', 'family', 'home', 'day', 'time', 'water', 'city', 'new', 'years', 'food', 'just', 'people', 'like', 'says']\n",
            "\n",
            "\n",
            "THE TOP 15 WORDS FOR TOPIC #3\n",
            "['time', 'new', 'don', 'years', 'medical', 'disease', 'patients', 'just', 'children', 'study', 'like', 'women', 'health', 'people', 'says']\n",
            "\n",
            "\n",
            "THE TOP 15 WORDS FOR TOPIC #4\n",
            "['voters', 'vote', 'election', 'party', 'new', 'obama', 'court', 'republican', 'campaign', 'people', 'state', 'president', 'clinton', 'said', 'trump']\n",
            "\n",
            "\n",
            "THE TOP 15 WORDS FOR TOPIC #5\n",
            "['years', 'going', 've', 'life', 'don', 'new', 'way', 'music', 'really', 'time', 'know', 'think', 'people', 'just', 'like']\n",
            "\n",
            "\n",
            "THE TOP 15 WORDS FOR TOPIC #6\n",
            "['student', 'years', 'data', 'science', 'university', 'people', 'time', 'schools', 'just', 'education', 'new', 'like', 'students', 'school', 'says']\n",
            "\n",
            "\n"
          ],
          "name": "stdout"
        }
      ]
    },
    {
      "cell_type": "markdown",
      "metadata": {
        "id": "aLZllw_qHJKl"
      },
      "source": [
        "### Attaching Discovered Topic Labels to Original Articles"
      ]
    },
    {
      "cell_type": "code",
      "metadata": {
        "colab": {
          "base_uri": "https://localhost:8080/"
        },
        "id": "KGNbdtj1HJKl",
        "outputId": "2cc5f893-fe68-4b70-ec42-5bc75d04e641"
      },
      "source": [
        "dtm"
      ],
      "execution_count": 27,
      "outputs": [
        {
          "output_type": "execute_result",
          "data": {
            "text/plain": [
              "<11992x54777 sparse matrix of type '<class 'numpy.int64'>'\n",
              "\twith 3033388 stored elements in Compressed Sparse Row format>"
            ]
          },
          "metadata": {
            "tags": []
          },
          "execution_count": 27
        }
      ]
    },
    {
      "cell_type": "code",
      "metadata": {
        "colab": {
          "base_uri": "https://localhost:8080/"
        },
        "id": "v914wb2GHJKl",
        "outputId": "0bf5e886-dfa3-4e01-e53a-96a0099049dc"
      },
      "source": [
        "dtm.shape"
      ],
      "execution_count": 28,
      "outputs": [
        {
          "output_type": "execute_result",
          "data": {
            "text/plain": [
              "(11992, 54777)"
            ]
          },
          "metadata": {
            "tags": []
          },
          "execution_count": 28
        }
      ]
    },
    {
      "cell_type": "code",
      "metadata": {
        "colab": {
          "base_uri": "https://localhost:8080/"
        },
        "id": "CMpyLCakHJKl",
        "outputId": "009792a6-9270-45a6-e755-8efe3b822c20"
      },
      "source": [
        "len(npr)"
      ],
      "execution_count": 29,
      "outputs": [
        {
          "output_type": "execute_result",
          "data": {
            "text/plain": [
              "11992"
            ]
          },
          "metadata": {
            "tags": []
          },
          "execution_count": 29
        }
      ]
    },
    {
      "cell_type": "code",
      "metadata": {
        "collapsed": true,
        "id": "QxtEsFuPHJKm"
      },
      "source": [
        "topic_results = LDA.transform(dtm)"
      ],
      "execution_count": 30,
      "outputs": []
    },
    {
      "cell_type": "code",
      "metadata": {
        "colab": {
          "base_uri": "https://localhost:8080/"
        },
        "id": "Vct46aPQHJKm",
        "outputId": "8a9fdf26-39d0-4048-e27b-37b4fd29989e"
      },
      "source": [
        "topic_results.shape"
      ],
      "execution_count": 31,
      "outputs": [
        {
          "output_type": "execute_result",
          "data": {
            "text/plain": [
              "(11992, 7)"
            ]
          },
          "metadata": {
            "tags": []
          },
          "execution_count": 31
        }
      ]
    },
    {
      "cell_type": "code",
      "metadata": {
        "colab": {
          "base_uri": "https://localhost:8080/"
        },
        "id": "Evg5UsExHJKm",
        "outputId": "749b4a75-444d-4607-802e-0cf496babb30"
      },
      "source": [
        "topic_results[0]"
      ],
      "execution_count": 32,
      "outputs": [
        {
          "output_type": "execute_result",
          "data": {
            "text/plain": [
              "array([1.61040465e-02, 6.83341493e-01, 2.25376318e-04, 2.25369288e-04,\n",
              "       2.99652737e-01, 2.25479379e-04, 2.25497980e-04])"
            ]
          },
          "metadata": {
            "tags": []
          },
          "execution_count": 32
        }
      ]
    },
    {
      "cell_type": "code",
      "metadata": {
        "colab": {
          "base_uri": "https://localhost:8080/"
        },
        "id": "gnp9rvE3HJKm",
        "outputId": "81ee2a01-624e-4c32-d15a-09ba0c7d5f47"
      },
      "source": [
        "topic_results[0].round(2)"
      ],
      "execution_count": 33,
      "outputs": [
        {
          "output_type": "execute_result",
          "data": {
            "text/plain": [
              "array([0.02, 0.68, 0.  , 0.  , 0.3 , 0.  , 0.  ])"
            ]
          },
          "metadata": {
            "tags": []
          },
          "execution_count": 33
        }
      ]
    },
    {
      "cell_type": "code",
      "metadata": {
        "colab": {
          "base_uri": "https://localhost:8080/"
        },
        "id": "O6kCEHCcHJKm",
        "outputId": "cfe77c67-1357-479d-b59d-30da28af93a9"
      },
      "source": [
        "topic_results[0].argmax()"
      ],
      "execution_count": 34,
      "outputs": [
        {
          "output_type": "execute_result",
          "data": {
            "text/plain": [
              "1"
            ]
          },
          "metadata": {
            "tags": []
          },
          "execution_count": 34
        }
      ]
    },
    {
      "cell_type": "markdown",
      "metadata": {
        "id": "an43KwR0HJKn"
      },
      "source": [
        "This means that our model thinks that the first article belongs to topic #1."
      ]
    },
    {
      "cell_type": "markdown",
      "metadata": {
        "id": "R05y-mRmHJKn"
      },
      "source": [
        "### Combining with Original Data"
      ]
    },
    {
      "cell_type": "code",
      "metadata": {
        "colab": {
          "base_uri": "https://localhost:8080/",
          "height": 204
        },
        "id": "-t_MLaQTHJKn",
        "outputId": "80f9bfd5-45d5-4ceb-c9a5-28b399756257"
      },
      "source": [
        "npr.head()"
      ],
      "execution_count": 35,
      "outputs": [
        {
          "output_type": "execute_result",
          "data": {
            "text/html": [
              "<div>\n",
              "<style scoped>\n",
              "    .dataframe tbody tr th:only-of-type {\n",
              "        vertical-align: middle;\n",
              "    }\n",
              "\n",
              "    .dataframe tbody tr th {\n",
              "        vertical-align: top;\n",
              "    }\n",
              "\n",
              "    .dataframe thead th {\n",
              "        text-align: right;\n",
              "    }\n",
              "</style>\n",
              "<table border=\"1\" class=\"dataframe\">\n",
              "  <thead>\n",
              "    <tr style=\"text-align: right;\">\n",
              "      <th></th>\n",
              "      <th>Article</th>\n",
              "    </tr>\n",
              "  </thead>\n",
              "  <tbody>\n",
              "    <tr>\n",
              "      <th>0</th>\n",
              "      <td>In the Washington of 2016, even when the polic...</td>\n",
              "    </tr>\n",
              "    <tr>\n",
              "      <th>1</th>\n",
              "      <td>Donald Trump has used Twitter  —   his prefe...</td>\n",
              "    </tr>\n",
              "    <tr>\n",
              "      <th>2</th>\n",
              "      <td>Donald Trump is unabashedly praising Russian...</td>\n",
              "    </tr>\n",
              "    <tr>\n",
              "      <th>3</th>\n",
              "      <td>Updated at 2:50 p. m. ET, Russian President Vl...</td>\n",
              "    </tr>\n",
              "    <tr>\n",
              "      <th>4</th>\n",
              "      <td>From photography, illustration and video, to d...</td>\n",
              "    </tr>\n",
              "  </tbody>\n",
              "</table>\n",
              "</div>"
            ],
            "text/plain": [
              "                                             Article\n",
              "0  In the Washington of 2016, even when the polic...\n",
              "1    Donald Trump has used Twitter  —   his prefe...\n",
              "2    Donald Trump is unabashedly praising Russian...\n",
              "3  Updated at 2:50 p. m. ET, Russian President Vl...\n",
              "4  From photography, illustration and video, to d..."
            ]
          },
          "metadata": {
            "tags": []
          },
          "execution_count": 35
        }
      ]
    },
    {
      "cell_type": "code",
      "metadata": {
        "colab": {
          "base_uri": "https://localhost:8080/"
        },
        "id": "7slMLXGDHJKn",
        "outputId": "7ff3b1f8-b59a-4e3c-b341-76527ffda2c8"
      },
      "source": [
        "topic_results.argmax(axis=1)"
      ],
      "execution_count": 36,
      "outputs": [
        {
          "output_type": "execute_result",
          "data": {
            "text/plain": [
              "array([1, 1, 1, ..., 3, 4, 0])"
            ]
          },
          "metadata": {
            "tags": []
          },
          "execution_count": 36
        }
      ]
    },
    {
      "cell_type": "code",
      "metadata": {
        "collapsed": true,
        "id": "OEgl54hwHJKn"
      },
      "source": [
        "npr['Topic'] = topic_results.argmax(axis=1)"
      ],
      "execution_count": 37,
      "outputs": []
    },
    {
      "cell_type": "code",
      "metadata": {
        "colab": {
          "base_uri": "https://localhost:8080/",
          "height": 359
        },
        "id": "OOeOrwhpHJKn",
        "outputId": "2993565c-eb08-4b83-d272-578b3de77e72"
      },
      "source": [
        "npr.head(10)"
      ],
      "execution_count": 38,
      "outputs": [
        {
          "output_type": "execute_result",
          "data": {
            "text/html": [
              "<div>\n",
              "<style scoped>\n",
              "    .dataframe tbody tr th:only-of-type {\n",
              "        vertical-align: middle;\n",
              "    }\n",
              "\n",
              "    .dataframe tbody tr th {\n",
              "        vertical-align: top;\n",
              "    }\n",
              "\n",
              "    .dataframe thead th {\n",
              "        text-align: right;\n",
              "    }\n",
              "</style>\n",
              "<table border=\"1\" class=\"dataframe\">\n",
              "  <thead>\n",
              "    <tr style=\"text-align: right;\">\n",
              "      <th></th>\n",
              "      <th>Article</th>\n",
              "      <th>Topic</th>\n",
              "    </tr>\n",
              "  </thead>\n",
              "  <tbody>\n",
              "    <tr>\n",
              "      <th>0</th>\n",
              "      <td>In the Washington of 2016, even when the polic...</td>\n",
              "      <td>1</td>\n",
              "    </tr>\n",
              "    <tr>\n",
              "      <th>1</th>\n",
              "      <td>Donald Trump has used Twitter  —   his prefe...</td>\n",
              "      <td>1</td>\n",
              "    </tr>\n",
              "    <tr>\n",
              "      <th>2</th>\n",
              "      <td>Donald Trump is unabashedly praising Russian...</td>\n",
              "      <td>1</td>\n",
              "    </tr>\n",
              "    <tr>\n",
              "      <th>3</th>\n",
              "      <td>Updated at 2:50 p. m. ET, Russian President Vl...</td>\n",
              "      <td>1</td>\n",
              "    </tr>\n",
              "    <tr>\n",
              "      <th>4</th>\n",
              "      <td>From photography, illustration and video, to d...</td>\n",
              "      <td>2</td>\n",
              "    </tr>\n",
              "    <tr>\n",
              "      <th>5</th>\n",
              "      <td>I did not want to join yoga class. I hated tho...</td>\n",
              "      <td>3</td>\n",
              "    </tr>\n",
              "    <tr>\n",
              "      <th>6</th>\n",
              "      <td>With a   who has publicly supported the debunk...</td>\n",
              "      <td>3</td>\n",
              "    </tr>\n",
              "    <tr>\n",
              "      <th>7</th>\n",
              "      <td>I was standing by the airport exit, debating w...</td>\n",
              "      <td>2</td>\n",
              "    </tr>\n",
              "    <tr>\n",
              "      <th>8</th>\n",
              "      <td>If movies were trying to be more realistic, pe...</td>\n",
              "      <td>3</td>\n",
              "    </tr>\n",
              "    <tr>\n",
              "      <th>9</th>\n",
              "      <td>Eighteen years ago, on New Year’s Eve, David F...</td>\n",
              "      <td>2</td>\n",
              "    </tr>\n",
              "  </tbody>\n",
              "</table>\n",
              "</div>"
            ],
            "text/plain": [
              "                                             Article  Topic\n",
              "0  In the Washington of 2016, even when the polic...      1\n",
              "1    Donald Trump has used Twitter  —   his prefe...      1\n",
              "2    Donald Trump is unabashedly praising Russian...      1\n",
              "3  Updated at 2:50 p. m. ET, Russian President Vl...      1\n",
              "4  From photography, illustration and video, to d...      2\n",
              "5  I did not want to join yoga class. I hated tho...      3\n",
              "6  With a   who has publicly supported the debunk...      3\n",
              "7  I was standing by the airport exit, debating w...      2\n",
              "8  If movies were trying to be more realistic, pe...      3\n",
              "9  Eighteen years ago, on New Year’s Eve, David F...      2"
            ]
          },
          "metadata": {
            "tags": []
          },
          "execution_count": 38
        }
      ]
    }
  ]
}